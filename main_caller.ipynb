{
 "cells": [
  {
   "cell_type": "code",
   "execution_count": null,
   "metadata": {},
   "outputs": [],
   "source": [
    "!pip install git+https://github.com/statsmodels/statsmodels.git --user"
   ]
  },
  {
   "cell_type": "code",
   "execution_count": 1,
   "metadata": {},
   "outputs": [
    {
     "ename": "ImportError",
     "evalue": "cannot import name 'STL' from 'statsmodels.tsa.seasonal' (C:\\ProgramData\\Anaconda3\\lib\\site-packages\\statsmodels\\tsa\\seasonal.py)",
     "output_type": "error",
     "traceback": [
      "\u001b[1;31m---------------------------------------------------------------------------\u001b[0m",
      "\u001b[1;31mImportError\u001b[0m                               Traceback (most recent call last)",
      "\u001b[1;32m<ipython-input-1-37e905692230>\u001b[0m in \u001b[0;36m<module>\u001b[1;34m\u001b[0m\n\u001b[0;32m      3\u001b[0m \u001b[1;32mimport\u001b[0m \u001b[0mpandas\u001b[0m \u001b[1;32mas\u001b[0m \u001b[0mpd\u001b[0m\u001b[1;33m\u001b[0m\u001b[1;33m\u001b[0m\u001b[0m\n\u001b[0;32m      4\u001b[0m \u001b[1;32mimport\u001b[0m \u001b[0mscipy\u001b[0m\u001b[1;33m.\u001b[0m\u001b[0mstats\u001b[0m \u001b[1;32mas\u001b[0m \u001b[0mstats\u001b[0m\u001b[1;33m\u001b[0m\u001b[1;33m\u001b[0m\u001b[0m\n\u001b[1;32m----> 5\u001b[1;33m \u001b[1;32mimport\u001b[0m \u001b[0mg_esd_calculations\u001b[0m \u001b[1;32mas\u001b[0m \u001b[0mesd\u001b[0m\u001b[1;33m\u001b[0m\u001b[1;33m\u001b[0m\u001b[0m\n\u001b[0m\u001b[0;32m      6\u001b[0m \u001b[1;32mimport\u001b[0m \u001b[0mgenerate_synthetic_data\u001b[0m \u001b[1;32mas\u001b[0m \u001b[0mgs\u001b[0m\u001b[1;33m\u001b[0m\u001b[1;33m\u001b[0m\u001b[0m\n\u001b[0;32m      7\u001b[0m \u001b[1;32mimport\u001b[0m \u001b[0mrandom\u001b[0m\u001b[1;33m\u001b[0m\u001b[1;33m\u001b[0m\u001b[0m\n",
      "\u001b[1;32m~\\A-prajakta\\ServiceOpps\\AnomalyDetectionsAlgos\\g_esd_calculations.py\u001b[0m in \u001b[0;36m<module>\u001b[1;34m\u001b[0m\n\u001b[0;32m      6\u001b[0m \u001b[1;32mimport\u001b[0m \u001b[0mnumpy\u001b[0m \u001b[1;32mas\u001b[0m \u001b[0mnp\u001b[0m\u001b[1;33m\u001b[0m\u001b[1;33m\u001b[0m\u001b[0m\n\u001b[0;32m      7\u001b[0m \u001b[1;32mimport\u001b[0m \u001b[0mscipy\u001b[0m\u001b[1;33m.\u001b[0m\u001b[0mstats\u001b[0m \u001b[1;32mas\u001b[0m \u001b[0mstats\u001b[0m\u001b[1;33m\u001b[0m\u001b[1;33m\u001b[0m\u001b[0m\n\u001b[1;32m----> 8\u001b[1;33m \u001b[1;32mfrom\u001b[0m \u001b[0mstatsmodels\u001b[0m\u001b[1;33m.\u001b[0m\u001b[0mtsa\u001b[0m\u001b[1;33m.\u001b[0m\u001b[0mseasonal\u001b[0m \u001b[1;32mimport\u001b[0m \u001b[0mSTL\u001b[0m\u001b[1;33m\u001b[0m\u001b[1;33m\u001b[0m\u001b[0m\n\u001b[0m\u001b[0;32m      9\u001b[0m \u001b[1;33m\u001b[0m\u001b[0m\n\u001b[0;32m     10\u001b[0m \u001b[1;32mdef\u001b[0m \u001b[0mcheck_G_values\u001b[0m\u001b[1;33m(\u001b[0m\u001b[0mGs\u001b[0m\u001b[1;33m,\u001b[0m\u001b[0mGc\u001b[0m\u001b[1;33m,\u001b[0m\u001b[0minp\u001b[0m\u001b[1;33m,\u001b[0m\u001b[0mmax_index\u001b[0m\u001b[1;33m)\u001b[0m\u001b[1;33m:\u001b[0m\u001b[1;33m\u001b[0m\u001b[1;33m\u001b[0m\u001b[0m\n",
      "\u001b[1;31mImportError\u001b[0m: cannot import name 'STL' from 'statsmodels.tsa.seasonal' (C:\\ProgramData\\Anaconda3\\lib\\site-packages\\statsmodels\\tsa\\seasonal.py)"
     ]
    }
   ],
   "source": [
    "import matplotlib.pyplot as plt\n",
    "import numpy as np\n",
    "import pandas as pd\n",
    "import scipy.stats as stats\n",
    "import g_esd_calculations as esd\n",
    "import generate_synthetic_data as gs\n",
    "import random"
   ]
  },
  {
   "cell_type": "code",
   "execution_count": null,
   "metadata": {},
   "outputs": [],
   "source": [
    "import dash\n",
    "import mysql.connector as mysql\n",
    "import dash_core_components as dcc \n",
    "import dash_html_components as html \n",
    "import plotly \n",
    "import random \n",
    "import plotly.graph_objects as go \n",
    "from collections import deque\n",
    "from dash.dependencies import Output, Input\n",
    "import time\n",
    "import datetime\n",
    "import random"
   ]
  },
  {
   "cell_type": "code",
   "execution_count": null,
   "metadata": {},
   "outputs": [],
   "source": [
    "def esd_outlierDetection(alpha,input_series,algo):\n",
    "    Gcritical=esd.calculate_critical_value(len(input_series),alpha)\n",
    "    Gstat,max_index=esd.grubbs_stat(input_series,algo)\n",
    "    return esd.check_G_values(Gstat,Gcritical,input_series,max_index)   "
   ]
  },
  {
   "cell_type": "code",
   "execution_count": null,
   "metadata": {},
   "outputs": [],
   "source": [
    "X = deque(maxlen = 1000) \n",
    "X.append(1) \n",
    "Y = deque(maxlen = 1000) \n",
    "Y.append(1) \n",
    "\n",
    "Y_an = deque(maxlen = 1000) \n",
    "Y_an.append(1) \n",
    "\n",
    "app = dash.Dash(__name__) "
   ]
  },
  {
   "cell_type": "code",
   "execution_count": null,
   "metadata": {},
   "outputs": [],
   "source": [
    "app.layout = html.Div( \n",
    "    [\n",
    "        dcc.Graph(id = 'live-graph', animate = True),\n",
    "        dcc.Interval(\n",
    "            id = 'graph-update',\n",
    "            interval = 6000,\n",
    "            n_intervals = 0\n",
    "        ),\n",
    "    ]\n",
    "    \n",
    ")"
   ]
  },
  {
   "cell_type": "code",
   "execution_count": null,
   "metadata": {},
   "outputs": [],
   "source": [
    "@app.callback(\n",
    "    Output('live-graph', 'figure'),#live-graph,figure\n",
    "    [ Input('graph-update', 'n_intervals') ]\n",
    ")\n",
    "def update_graph_scatter(n): \n",
    "\n",
    "    data=gs.generate_data(\"temperature\")   \n",
    "       \n",
    "    \n",
    "    for i in range(0,len(data)):\n",
    "        if i in [100]:\n",
    "            data[i]=data[i]+random.randint(-100,100)\n",
    "            Y.append(data[i])\n",
    "        else:\n",
    "            Y.append(data[i])        \n",
    "        X.append(X[-1]+1)\n",
    "        Y_an.append(0)\n",
    "      \n",
    "    \n",
    "    isOutlier,ind,val=esd_outlierDetection(0.01,data)\n",
    "    time.sleep(5)\n",
    "    print(len(Y))\n",
    "    if isOutlier:\n",
    "        Y_an[-len(data)+ind]=val\n",
    "\n",
    "  \n",
    "    data = plotly.graph_objs.Scatter( \n",
    "    x=list(X),\n",
    "    y=list(Y),\n",
    "    name='Scatter',\n",
    "    mode= 'lines+markers',\n",
    "\n",
    "    )\n",
    "    data_an=go.Scatter(\n",
    "        x=list(X),\n",
    "        y=list(Y_an),\n",
    "        name=\"anomaly\"\n",
    "    )\n",
    "    return {'data': [data,data_an],\n",
    "            'layout' : go.Layout(xaxis=dict(range=[min(X),max(X)]),yaxis = dict(range = [min(Y),max(Y)]),)}"
   ]
  },
  {
   "cell_type": "code",
   "execution_count": null,
   "metadata": {},
   "outputs": [],
   "source": [
    "if __name__ == '__main__': \n",
    "    app.run_server(host = '0.0.0.0',port = '8050')"
   ]
  },
  {
   "cell_type": "code",
   "execution_count": null,
   "metadata": {},
   "outputs": [],
   "source": []
  }
 ],
 "metadata": {
  "kernelspec": {
   "display_name": "Python 3",
   "language": "python",
   "name": "python3"
  },
  "language_info": {
   "codemirror_mode": {
    "name": "ipython",
    "version": 3
   },
   "file_extension": ".py",
   "mimetype": "text/x-python",
   "name": "python",
   "nbconvert_exporter": "python",
   "pygments_lexer": "ipython3",
   "version": "3.7.3"
  }
 },
 "nbformat": 4,
 "nbformat_minor": 2
}
