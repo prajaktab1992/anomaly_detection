{
 "cells": [
  {
   "cell_type": "code",
   "execution_count": 1,
   "metadata": {},
   "outputs": [],
   "source": [
    "import pandas as pd\n",
    "import numpy as np\n",
    "from  pyod.models.knn import KNN\n",
    "from pyod.models.auto_encoder import AutoEncoder\n",
    "from sklearn.preprocessing import StandardScaler"
   ]
  },
  {
   "cell_type": "code",
   "execution_count": 2,
   "metadata": {},
   "outputs": [],
   "source": [
    "processed_data=pd.read_csv(\"ProcessedData.csv\",encoding=\"latin1\")"
   ]
  },
  {
   "cell_type": "code",
   "execution_count": 3,
   "metadata": {},
   "outputs": [
    {
     "data": {
      "text/html": [
       "<div>\n",
       "<style scoped>\n",
       "    .dataframe tbody tr th:only-of-type {\n",
       "        vertical-align: middle;\n",
       "    }\n",
       "\n",
       "    .dataframe tbody tr th {\n",
       "        vertical-align: top;\n",
       "    }\n",
       "\n",
       "    .dataframe thead th {\n",
       "        text-align: right;\n",
       "    }\n",
       "</style>\n",
       "<table border=\"1\" class=\"dataframe\">\n",
       "  <thead>\n",
       "    <tr style=\"text-align: right;\">\n",
       "      <th></th>\n",
       "      <th>date</th>\n",
       "      <th>device</th>\n",
       "      <th>smoothed_temperature</th>\n",
       "      <th>smoothed_pressure</th>\n",
       "      <th>smoothed_waterFraction</th>\n",
       "    </tr>\n",
       "  </thead>\n",
       "  <tbody>\n",
       "    <tr>\n",
       "      <th>0</th>\n",
       "      <td>1/1/2010 0:00</td>\n",
       "      <td>42001</td>\n",
       "      <td>0.419956</td>\n",
       "      <td>2.297892</td>\n",
       "      <td>1.342423</td>\n",
       "    </tr>\n",
       "    <tr>\n",
       "      <th>1</th>\n",
       "      <td>1/1/2010 1:00</td>\n",
       "      <td>42001</td>\n",
       "      <td>0.438078</td>\n",
       "      <td>2.312392</td>\n",
       "      <td>1.342423</td>\n",
       "    </tr>\n",
       "    <tr>\n",
       "      <th>2</th>\n",
       "      <td>1/1/2010 2:00</td>\n",
       "      <td>42001</td>\n",
       "      <td>0.462535</td>\n",
       "      <td>2.326438</td>\n",
       "      <td>1.380211</td>\n",
       "    </tr>\n",
       "    <tr>\n",
       "      <th>3</th>\n",
       "      <td>1/1/2010 3:00</td>\n",
       "      <td>42001</td>\n",
       "      <td>0.570786</td>\n",
       "      <td>2.600585</td>\n",
       "      <td>1.397940</td>\n",
       "    </tr>\n",
       "    <tr>\n",
       "      <th>4</th>\n",
       "      <td>1/1/2010 4:00</td>\n",
       "      <td>42001</td>\n",
       "      <td>0.570786</td>\n",
       "      <td>2.674917</td>\n",
       "      <td>1.623249</td>\n",
       "    </tr>\n",
       "  </tbody>\n",
       "</table>\n",
       "</div>"
      ],
      "text/plain": [
       "            date  device  smoothed_temperature  smoothed_pressure  \\\n",
       "0  1/1/2010 0:00   42001              0.419956           2.297892   \n",
       "1  1/1/2010 1:00   42001              0.438078           2.312392   \n",
       "2  1/1/2010 2:00   42001              0.462535           2.326438   \n",
       "3  1/1/2010 3:00   42001              0.570786           2.600585   \n",
       "4  1/1/2010 4:00   42001              0.570786           2.674917   \n",
       "\n",
       "   smoothed_waterFraction  \n",
       "0                1.342423  \n",
       "1                1.342423  \n",
       "2                1.380211  \n",
       "3                1.397940  \n",
       "4                1.623249  "
      ]
     },
     "execution_count": 3,
     "metadata": {},
     "output_type": "execute_result"
    }
   ],
   "source": [
    "processed_data.head()"
   ]
  },
  {
   "cell_type": "code",
   "execution_count": 4,
   "metadata": {},
   "outputs": [],
   "source": [
    "processed_data.drop(columns={'date','device'},axis=1,inplace=True)"
   ]
  },
  {
   "cell_type": "code",
   "execution_count": 5,
   "metadata": {},
   "outputs": [
    {
     "name": "stdout",
     "output_type": "stream",
     "text": [
      "<class 'pandas.core.frame.DataFrame'>\n",
      "RangeIndex: 5028 entries, 0 to 5027\n",
      "Data columns (total 3 columns):\n",
      " #   Column                  Non-Null Count  Dtype  \n",
      "---  ------                  --------------  -----  \n",
      " 0   smoothed_temperature    5028 non-null   float64\n",
      " 1   smoothed_pressure       5028 non-null   float64\n",
      " 2   smoothed_waterFraction  5028 non-null   float64\n",
      "dtypes: float64(3)\n",
      "memory usage: 118.0 KB\n"
     ]
    }
   ],
   "source": [
    "processed_data.info()"
   ]
  },
  {
   "cell_type": "code",
   "execution_count": 6,
   "metadata": {},
   "outputs": [],
   "source": [
    "X_train=processed_data"
   ]
  },
  {
   "cell_type": "code",
   "execution_count": 7,
   "metadata": {},
   "outputs": [],
   "source": [
    "X_train =StandardScaler().fit_transform(X_train)\n",
    "X_train =pd.DataFrame(X_train)"
   ]
  },
  {
   "cell_type": "code",
   "execution_count": 8,
   "metadata": {},
   "outputs": [
    {
     "name": "stdout",
     "output_type": "stream",
     "text": [
      "Model: \"sequential\"\n",
      "_________________________________________________________________\n",
      "Layer (type)                 Output Shape              Param #   \n",
      "=================================================================\n",
      "dense (Dense)                (None, 3)                 12        \n",
      "_________________________________________________________________\n",
      "dropout (Dropout)            (None, 3)                 0         \n",
      "_________________________________________________________________\n",
      "dense_1 (Dense)              (None, 3)                 12        \n",
      "_________________________________________________________________\n",
      "dropout_1 (Dropout)          (None, 3)                 0         \n",
      "_________________________________________________________________\n",
      "dense_2 (Dense)              (None, 3)                 12        \n",
      "_________________________________________________________________\n",
      "dropout_2 (Dropout)          (None, 3)                 0         \n",
      "_________________________________________________________________\n",
      "dense_3 (Dense)              (None, 1)                 4         \n",
      "_________________________________________________________________\n",
      "dropout_3 (Dropout)          (None, 1)                 0         \n",
      "_________________________________________________________________\n",
      "dense_4 (Dense)              (None, 1)                 2         \n",
      "_________________________________________________________________\n",
      "dropout_4 (Dropout)          (None, 1)                 0         \n",
      "_________________________________________________________________\n",
      "dense_5 (Dense)              (None, 3)                 6         \n",
      "_________________________________________________________________\n",
      "dropout_5 (Dropout)          (None, 3)                 0         \n",
      "_________________________________________________________________\n",
      "dense_6 (Dense)              (None, 3)                 12        \n",
      "=================================================================\n",
      "Total params: 60\n",
      "Trainable params: 60\n",
      "Non-trainable params: 0\n",
      "_________________________________________________________________\n",
      "None\n",
      "Epoch 1/100\n",
      "142/142 [==============================] - 0s 3ms/step - loss: 1.5324 - val_loss: 1.4322\n",
      "Epoch 2/100\n",
      "142/142 [==============================] - 0s 2ms/step - loss: 1.3815 - val_loss: 1.3307\n",
      "Epoch 3/100\n",
      "142/142 [==============================] - 0s 2ms/step - loss: 1.2940 - val_loss: 1.2652\n",
      "Epoch 4/100\n",
      "142/142 [==============================] - 0s 2ms/step - loss: 1.2354 - val_loss: 1.2185\n",
      "Epoch 5/100\n",
      "142/142 [==============================] - 0s 2ms/step - loss: 1.1936 - val_loss: 1.1839\n",
      "Epoch 6/100\n",
      "142/142 [==============================] - 0s 1ms/step - loss: 1.1622 - val_loss: 1.1573\n",
      "Epoch 7/100\n",
      "142/142 [==============================] - 0s 1ms/step - loss: 1.1377 - val_loss: 1.1362\n",
      "Epoch 8/100\n",
      "142/142 [==============================] - 0s 2ms/step - loss: 1.1183 - val_loss: 1.1192\n",
      "Epoch 9/100\n",
      "142/142 [==============================] - 0s 1ms/step - loss: 1.1024 - val_loss: 1.1051\n",
      "Epoch 10/100\n",
      "142/142 [==============================] - 0s 1ms/step - loss: 1.0892 - val_loss: 1.0933\n",
      "Epoch 11/100\n",
      "142/142 [==============================] - 0s 1ms/step - loss: 1.0782 - val_loss: 1.0834\n",
      "Epoch 12/100\n",
      "142/142 [==============================] - 0s 1ms/step - loss: 1.0688 - val_loss: 1.0750\n",
      "Epoch 13/100\n",
      "142/142 [==============================] - 0s 2ms/step - loss: 1.0609 - val_loss: 1.0678\n",
      "Epoch 14/100\n",
      "142/142 [==============================] - 0s 1ms/step - loss: 1.0541 - val_loss: 1.0616\n",
      "Epoch 15/100\n",
      "142/142 [==============================] - 0s 1ms/step - loss: 1.0482 - val_loss: 1.0562\n",
      "Epoch 16/100\n",
      "142/142 [==============================] - 0s 1ms/step - loss: 1.0431 - val_loss: 1.0516\n",
      "Epoch 17/100\n",
      "142/142 [==============================] - 0s 1ms/step - loss: 1.0387 - val_loss: 1.0476\n",
      "Epoch 18/100\n",
      "142/142 [==============================] - 0s 1ms/step - loss: 1.0348 - val_loss: 1.0440\n",
      "Epoch 19/100\n",
      "142/142 [==============================] - 0s 1ms/step - loss: 1.0314 - val_loss: 1.0409\n",
      "Epoch 20/100\n",
      "142/142 [==============================] - 0s 2ms/step - loss: 1.0284 - val_loss: 1.0381\n",
      "Epoch 21/100\n",
      "142/142 [==============================] - 0s 2ms/step - loss: 1.0258 - val_loss: 1.0356\n",
      "Epoch 22/100\n",
      "142/142 [==============================] - 0s 2ms/step - loss: 1.0234 - val_loss: 1.0335\n",
      "Epoch 23/100\n",
      "142/142 [==============================] - 0s 1ms/step - loss: 1.0213 - val_loss: 1.0315\n",
      "Epoch 24/100\n",
      "142/142 [==============================] - 0s 1ms/step - loss: 1.0194 - val_loss: 1.0298\n",
      "Epoch 25/100\n",
      "142/142 [==============================] - 0s 1ms/step - loss: 1.0177 - val_loss: 1.0282\n",
      "Epoch 26/100\n",
      "142/142 [==============================] - 0s 1ms/step - loss: 1.0161 - val_loss: 1.0268\n",
      "Epoch 27/100\n",
      "142/142 [==============================] - 0s 1ms/step - loss: 1.0147 - val_loss: 1.0255\n",
      "Epoch 28/100\n",
      "142/142 [==============================] - 0s 2ms/step - loss: 1.0135 - val_loss: 1.0243\n",
      "Epoch 29/100\n",
      "142/142 [==============================] - 0s 1ms/step - loss: 1.0124 - val_loss: 1.0233\n",
      "Epoch 30/100\n",
      "142/142 [==============================] - 0s 1ms/step - loss: 1.0113 - val_loss: 1.0224\n",
      "Epoch 31/100\n",
      "142/142 [==============================] - 0s 1ms/step - loss: 1.0104 - val_loss: 1.0215\n",
      "Epoch 32/100\n",
      "142/142 [==============================] - 0s 1ms/step - loss: 1.0095 - val_loss: 1.0207\n",
      "Epoch 33/100\n",
      "142/142 [==============================] - 0s 1ms/step - loss: 1.0088 - val_loss: 1.0200\n",
      "Epoch 34/100\n",
      "142/142 [==============================] - 0s 2ms/step - loss: 1.0081 - val_loss: 1.0193\n",
      "Epoch 35/100\n",
      "142/142 [==============================] - 0s 2ms/step - loss: 1.0074 - val_loss: 1.0187\n",
      "Epoch 36/100\n",
      "142/142 [==============================] - 0s 2ms/step - loss: 1.0068 - val_loss: 1.0182\n",
      "Epoch 37/100\n",
      "142/142 [==============================] - 0s 2ms/step - loss: 1.0063 - val_loss: 1.0177\n",
      "Epoch 38/100\n",
      "142/142 [==============================] - 0s 2ms/step - loss: 1.0058 - val_loss: 1.0172\n",
      "Epoch 39/100\n",
      "142/142 [==============================] - 0s 1ms/step - loss: 1.0053 - val_loss: 1.0168\n",
      "Epoch 40/100\n",
      "142/142 [==============================] - 0s 1ms/step - loss: 1.0049 - val_loss: 1.0164\n",
      "Epoch 41/100\n",
      "142/142 [==============================] - 0s 1ms/step - loss: 1.0045 - val_loss: 1.0160\n",
      "Epoch 42/100\n",
      "142/142 [==============================] - 0s 1ms/step - loss: 1.0041 - val_loss: 1.0157\n",
      "Epoch 43/100\n",
      "142/142 [==============================] - 0s 2ms/step - loss: 1.0038 - val_loss: 1.0154\n",
      "Epoch 44/100\n",
      "142/142 [==============================] - 0s 2ms/step - loss: 1.0035 - val_loss: 1.0151\n",
      "Epoch 45/100\n",
      "142/142 [==============================] - 0s 2ms/step - loss: 1.0032 - val_loss: 1.0149\n",
      "Epoch 46/100\n",
      "142/142 [==============================] - 0s 2ms/step - loss: 1.0029 - val_loss: 1.0146\n",
      "Epoch 47/100\n",
      "142/142 [==============================] - 0s 1ms/step - loss: 1.0027 - val_loss: 1.0144\n",
      "Epoch 48/100\n",
      "142/142 [==============================] - 0s 1ms/step - loss: 1.0024 - val_loss: 1.0142\n",
      "Epoch 49/100\n",
      "142/142 [==============================] - 0s 2ms/step - loss: 1.0022 - val_loss: 1.0140\n",
      "Epoch 50/100\n",
      "142/142 [==============================] - 0s 2ms/step - loss: 1.0020 - val_loss: 1.0138\n",
      "Epoch 51/100\n",
      "142/142 [==============================] - 0s 2ms/step - loss: 1.0019 - val_loss: 1.0137\n",
      "Epoch 52/100\n",
      "142/142 [==============================] - 0s 2ms/step - loss: 1.0017 - val_loss: 1.0135\n",
      "Epoch 53/100\n",
      "142/142 [==============================] - 0s 2ms/step - loss: 1.0015 - val_loss: 1.0134\n",
      "Epoch 54/100\n",
      "142/142 [==============================] - 0s 2ms/step - loss: 1.0014 - val_loss: 1.0132\n",
      "Epoch 55/100\n",
      "142/142 [==============================] - 0s 2ms/step - loss: 1.0012 - val_loss: 1.0131\n",
      "Epoch 56/100\n",
      "142/142 [==============================] - 0s 1ms/step - loss: 1.0011 - val_loss: 1.0130\n",
      "Epoch 57/100\n",
      "142/142 [==============================] - 0s 2ms/step - loss: 1.0010 - val_loss: 1.0129\n",
      "Epoch 58/100\n",
      "142/142 [==============================] - 0s 1ms/step - loss: 1.0009 - val_loss: 1.0128\n",
      "Epoch 59/100\n",
      "142/142 [==============================] - 0s 2ms/step - loss: 1.0008 - val_loss: 1.0127\n",
      "Epoch 60/100\n",
      "142/142 [==============================] - 0s 1ms/step - loss: 1.0007 - val_loss: 1.0126\n",
      "Epoch 61/100\n"
     ]
    },
    {
     "name": "stdout",
     "output_type": "stream",
     "text": [
      "142/142 [==============================] - 0s 2ms/step - loss: 1.0006 - val_loss: 1.0125\n",
      "Epoch 62/100\n",
      "142/142 [==============================] - 0s 1ms/step - loss: 1.0005 - val_loss: 1.0124\n",
      "Epoch 63/100\n",
      "142/142 [==============================] - 0s 2ms/step - loss: 1.0004 - val_loss: 1.0124\n",
      "Epoch 64/100\n",
      "142/142 [==============================] - 0s 2ms/step - loss: 1.0003 - val_loss: 1.0123\n",
      "Epoch 65/100\n",
      "142/142 [==============================] - 0s 2ms/step - loss: 1.0002 - val_loss: 1.0122\n",
      "Epoch 66/100\n",
      "142/142 [==============================] - 0s 2ms/step - loss: 1.0002 - val_loss: 1.0122\n",
      "Epoch 67/100\n",
      "142/142 [==============================] - 0s 1ms/step - loss: 1.0001 - val_loss: 1.0121\n",
      "Epoch 68/100\n",
      "142/142 [==============================] - 0s 2ms/step - loss: 1.0001 - val_loss: 1.0121\n",
      "Epoch 69/100\n",
      "142/142 [==============================] - 0s 2ms/step - loss: 1.0000 - val_loss: 1.0120\n",
      "Epoch 70/100\n",
      "142/142 [==============================] - 0s 2ms/step - loss: 0.9999 - val_loss: 1.0120\n",
      "Epoch 71/100\n",
      "142/142 [==============================] - 0s 2ms/step - loss: 0.9999 - val_loss: 1.0119\n",
      "Epoch 72/100\n",
      "142/142 [==============================] - 0s 1ms/step - loss: 0.9998 - val_loss: 1.0119\n",
      "Epoch 73/100\n",
      "142/142 [==============================] - 0s 1ms/step - loss: 0.9998 - val_loss: 1.0118\n",
      "Epoch 74/100\n",
      "142/142 [==============================] - 0s 1ms/step - loss: 0.9998 - val_loss: 1.0118\n",
      "Epoch 75/100\n",
      "142/142 [==============================] - 0s 1ms/step - loss: 0.9997 - val_loss: 1.0118\n",
      "Epoch 76/100\n",
      "142/142 [==============================] - 0s 1ms/step - loss: 0.9997 - val_loss: 1.0117\n",
      "Epoch 77/100\n",
      "142/142 [==============================] - 0s 1ms/step - loss: 0.9996 - val_loss: 1.0117\n",
      "Epoch 78/100\n",
      "142/142 [==============================] - 0s 1ms/step - loss: 0.9996 - val_loss: 1.0117\n",
      "Epoch 79/100\n",
      "142/142 [==============================] - 0s 2ms/step - loss: 0.9996 - val_loss: 1.0116\n",
      "Epoch 80/100\n",
      "142/142 [==============================] - 0s 1ms/step - loss: 0.9995 - val_loss: 1.0116\n",
      "Epoch 81/100\n",
      "142/142 [==============================] - 0s 1ms/step - loss: 0.9995 - val_loss: 1.0116\n",
      "Epoch 82/100\n",
      "142/142 [==============================] - 0s 2ms/step - loss: 0.9995 - val_loss: 1.0116\n",
      "Epoch 83/100\n",
      "142/142 [==============================] - 0s 2ms/step - loss: 0.9995 - val_loss: 1.0115\n",
      "Epoch 84/100\n",
      "142/142 [==============================] - 0s 1ms/step - loss: 0.9994 - val_loss: 1.0115\n",
      "Epoch 85/100\n",
      "142/142 [==============================] - 0s 1ms/step - loss: 0.9994 - val_loss: 1.0115\n",
      "Epoch 86/100\n",
      "142/142 [==============================] - 0s 1ms/step - loss: 0.9994 - val_loss: 1.0115\n",
      "Epoch 87/100\n",
      "142/142 [==============================] - 0s 1ms/step - loss: 0.9994 - val_loss: 1.0115\n",
      "Epoch 88/100\n",
      "142/142 [==============================] - 0s 1ms/step - loss: 0.9993 - val_loss: 1.0115\n",
      "Epoch 89/100\n",
      "142/142 [==============================] - 0s 1ms/step - loss: 0.9993 - val_loss: 1.0114\n",
      "Epoch 90/100\n",
      "142/142 [==============================] - 0s 1ms/step - loss: 0.9993 - val_loss: 1.0114\n",
      "Epoch 91/100\n",
      "142/142 [==============================] - 0s 1ms/step - loss: 0.9993 - val_loss: 1.0114\n",
      "Epoch 92/100\n",
      "142/142 [==============================] - 0s 1ms/step - loss: 0.9993 - val_loss: 1.0114\n",
      "Epoch 93/100\n",
      "142/142 [==============================] - 0s 2ms/step - loss: 0.9993 - val_loss: 1.0114\n",
      "Epoch 94/100\n",
      "142/142 [==============================] - 0s 2ms/step - loss: 0.9992 - val_loss: 1.0114\n",
      "Epoch 95/100\n",
      "142/142 [==============================] - 0s 1ms/step - loss: 0.9992 - val_loss: 1.0114\n",
      "Epoch 96/100\n",
      "142/142 [==============================] - 0s 1ms/step - loss: 0.9992 - val_loss: 1.0113\n",
      "Epoch 97/100\n",
      "142/142 [==============================] - 0s 1ms/step - loss: 0.9992 - val_loss: 1.0113\n",
      "Epoch 98/100\n",
      "142/142 [==============================] - 0s 1ms/step - loss: 0.9992 - val_loss: 1.0113\n",
      "Epoch 99/100\n",
      "142/142 [==============================] - 0s 1ms/step - loss: 0.9992 - val_loss: 1.0113\n",
      "Epoch 100/100\n",
      "142/142 [==============================] - 0s 1ms/step - loss: 0.9992 - val_loss: 1.0113\n"
     ]
    },
    {
     "data": {
      "text/plain": [
       "AutoEncoder(batch_size=32, contamination=0.1, dropout_rate=0.2, epochs=100,\n",
       "      hidden_activation='relu', hidden_neurons=[3, 1, 1, 3],\n",
       "      l2_regularizer=0.1,\n",
       "      loss=<function mean_squared_error at 0x000001ACD2898E18>,\n",
       "      optimizer='adam', output_activation='sigmoid', preprocessing=True,\n",
       "      random_state=None, validation_size=0.1, verbose=1)"
      ]
     },
     "execution_count": 8,
     "metadata": {},
     "output_type": "execute_result"
    }
   ],
   "source": [
    "clf1 = AutoEncoder(hidden_neurons =[3, 1, 1, 3])\n",
    "clf1.fit(X_train)"
   ]
  },
  {
   "cell_type": "code",
   "execution_count": 9,
   "metadata": {},
   "outputs": [
    {
     "data": {
      "text/plain": [
       "2.1899363725586727"
      ]
     },
     "execution_count": 9,
     "metadata": {},
     "output_type": "execute_result"
    }
   ],
   "source": [
    "# Get the outlier scores for the train data\n",
    "y_train_scores = clf1.decision_scores_  \n",
    "y_train_scores[128]\n"
   ]
  },
  {
   "cell_type": "code",
   "execution_count": 10,
   "metadata": {},
   "outputs": [],
   "source": [
    "td=pd.read_csv(\"test.csv\",encoding=\"latin1\")"
   ]
  },
  {
   "cell_type": "code",
   "execution_count": 11,
   "metadata": {},
   "outputs": [],
   "source": [
    "X_test=td"
   ]
  },
  {
   "cell_type": "code",
   "execution_count": 12,
   "metadata": {},
   "outputs": [],
   "source": [
    "X_test  =StandardScaler().fit_transform(X_test)\n",
    "X_test  =pd.DataFrame(X_test)"
   ]
  },
  {
   "cell_type": "code",
   "execution_count": 14,
   "metadata": {},
   "outputs": [
    {
     "data": {
      "image/png": "[encoded data removed]",
      "text/plain": [
       "<Figure size 432x288 with 1 Axes>"
      ]
     },
     "metadata": {
      "needs_background": "light"
     },
     "output_type": "display_data"
    }
   ],
   "source": [
    "# Predict the anomaly scores\n",
    "y_test_scores = clf1.decision_function(X_test)  # outlier scores\n",
    "y_test_scores = pd.Series(y_test_scores)\n",
    "\n",
    "# Plot it!\n",
    "import matplotlib.pyplot as plt\n",
    "plt.hist(y_test_scores, bins='auto')  \n",
    "plt.title(\"Histogram for Model Clf1 Anomaly Scores\")\n",
    "plt.show()"
   ]
  },
  {
   "cell_type": "code",
   "execution_count": null,
   "metadata": {},
   "outputs": [],
   "source": []
  }
 ],
 "metadata": {
  "kernelspec": {
   "display_name": "Python 3",
   "language": "python",
   "name": "python3"
  },
  "language_info": {
   "codemirror_mode": {
    "name": "ipython",
    "version": 3
   },
   "file_extension": ".py",
   "mimetype": "text/x-python",
   "name": "python",
   "nbconvert_exporter": "python",
   "pygments_lexer": "ipython3",
   "version": "3.7.3"
  }
 },
 "nbformat": 4,
 "nbformat_minor": 2
}
